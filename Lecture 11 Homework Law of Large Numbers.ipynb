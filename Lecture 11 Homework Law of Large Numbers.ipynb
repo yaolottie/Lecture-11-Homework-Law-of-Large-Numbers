{
 "cells": [
  {
   "cell_type": "code",
   "execution_count": 2,
   "metadata": {},
   "outputs": [],
   "source": [
    "#Law of Large Numbers: M(Xn) ---> E(X)  when n ---> ∞\n",
    "#the average across the sample will converge to the expected value of that same measure when n increases to the infinity."
   ]
  },
  {
   "cell_type": "code",
   "execution_count": 40,
   "metadata": {},
   "outputs": [],
   "source": [
    "#题目：\n",
    "#Test the law of Large Numbers for N random normally distrbuted numbers with mean = 0, stdev = 1 (i.e. standard deviation)\n",
    "#Create a Python script that will count how many of these numbers fall between -1 and 1 and divide by the total quantity of N\n",
    "#You know that E(x) = 68.2%\n",
    "#Check that Mean(X) -> E(x) as rerun your script while increasing N"
   ]
  },
  {
   "cell_type": "code",
   "execution_count": null,
   "metadata": {},
   "outputs": [],
   "source": [
    "import numpy as np\n",
    "from numpy.random import randn\n",
    "randn()"
   ]
  },
  {
   "cell_type": "code",
   "execution_count": 29,
   "metadata": {},
   "outputs": [
    {
     "name": "stdout",
     "output_type": "stream",
     "text": [
      "x =  0.6696918506468797\n",
      "n =  1\n",
      "m =  1\n",
      "possibility with sample size 11 =  100.0 %\n",
      "x =  0.6232904333199866\n",
      "n =  2\n",
      "m =  2\n",
      "possibility with sample size 11 =  100.0 %\n",
      "x =  -0.4813988872288377\n",
      "n =  3\n",
      "m =  3\n",
      "possibility with sample size 11 =  100.0 %\n",
      "x =  0.11307918046074282\n",
      "n =  4\n",
      "m =  4\n",
      "possibility with sample size 11 =  100.0 %\n",
      "x =  1.6570522038164335\n",
      "n =  5\n",
      "m =  4\n",
      "possibility with sample size 11 =  80.0 %\n",
      "x =  1.625326274463616\n",
      "n =  6\n",
      "m =  4\n",
      "possibility with sample size 11 =  66.66666666666666 %\n",
      "x =  0.6883107105538153\n",
      "n =  7\n",
      "m =  5\n",
      "possibility with sample size 11 =  71.42857142857143 %\n",
      "x =  -0.7541092491299434\n",
      "n =  8\n",
      "m =  6\n",
      "possibility with sample size 11 =  75.0 %\n",
      "x =  0.6730682344541232\n",
      "n =  9\n",
      "m =  7\n",
      "possibility with sample size 11 =  77.77777777777779 %\n",
      "x =  -0.7253812775377873\n",
      "n =  10\n",
      "m =  8\n",
      "possibility with sample size 11 =  80.0 %\n"
     ]
    }
   ],
   "source": [
    "n = 1\n",
    "m = 0\n",
    "while n < 11 :\n",
    "    x = randn()\n",
    "    if -1 < x < 1:\n",
    "        m = m + 1\n",
    "    print(\"x = \", x)\n",
    "    print(\"n = \", n)\n",
    "    print(\"m = \", m)\n",
    "    possibility11 = (m / n) * 100\n",
    "    print(\"possibility with sample size 11 = \", possibility11, \"%\")\n",
    "    n = n + 1"
   ]
  },
  {
   "cell_type": "code",
   "execution_count": 30,
   "metadata": {},
   "outputs": [
    {
     "name": "stdout",
     "output_type": "stream",
     "text": [
      "possibility with sample size 21 =  100.0 %\n",
      "possibility with sample size 21 =  100.0 %\n",
      "possibility with sample size 21 =  100.0 %\n",
      "possibility with sample size 21 =  100.0 %\n",
      "possibility with sample size 21 =  100.0 %\n",
      "possibility with sample size 21 =  100.0 %\n",
      "possibility with sample size 21 =  85.71428571428571 %\n",
      "possibility with sample size 21 =  75.0 %\n",
      "possibility with sample size 21 =  77.77777777777779 %\n",
      "possibility with sample size 21 =  80.0 %\n",
      "possibility with sample size 21 =  72.72727272727273 %\n",
      "possibility with sample size 21 =  66.66666666666666 %\n",
      "possibility with sample size 21 =  69.23076923076923 %\n",
      "possibility with sample size 21 =  71.42857142857143 %\n",
      "possibility with sample size 21 =  73.33333333333333 %\n",
      "possibility with sample size 21 =  68.75 %\n",
      "possibility with sample size 21 =  64.70588235294117 %\n",
      "possibility with sample size 21 =  61.111111111111114 %\n",
      "possibility with sample size 21 =  57.89473684210527 %\n",
      "possibility with sample size 21 =  60.0 %\n"
     ]
    }
   ],
   "source": [
    "n = 1\n",
    "m = 0\n",
    "while n < 21 :\n",
    "    x = randn()\n",
    "    if -1 < x < 1:\n",
    "        m = m + 1\n",
    "    possibility21 = (m / n) * 100\n",
    "    print(\"possibility with sample size 21 = \", possibility21, \"%\")\n",
    "    n = n + 1"
   ]
  },
  {
   "cell_type": "code",
   "execution_count": 31,
   "metadata": {},
   "outputs": [
    {
     "name": "stdout",
     "output_type": "stream",
     "text": [
      "possibility with sample size 101 =  72.0 %\n"
     ]
    }
   ],
   "source": [
    "n = 1\n",
    "m = 0\n",
    "while n < 101 :\n",
    "    x = randn()\n",
    "    if -1 < x < 1:\n",
    "        m = m + 1\n",
    "    possibility101 = (m / n) * 100\n",
    "    n = n + 1\n",
    "print(\"possibility with sample size 101 = \", possibility101, \"%\")"
   ]
  },
  {
   "cell_type": "code",
   "execution_count": 32,
   "metadata": {},
   "outputs": [
    {
     "name": "stdout",
     "output_type": "stream",
     "text": [
      "possibility with sample size 1001 =  66.10000000000001 %\n"
     ]
    }
   ],
   "source": [
    "n = 1\n",
    "m = 0\n",
    "while n < 1001 :\n",
    "    x = randn()\n",
    "    if -1 < x < 1:\n",
    "        m = m + 1\n",
    "    possibility1001 = (m / n) * 100\n",
    "    n = n + 1\n",
    "print(\"possibility with sample size 1001 = \", possibility1001, \"%\")"
   ]
  },
  {
   "cell_type": "code",
   "execution_count": 33,
   "metadata": {},
   "outputs": [
    {
     "name": "stdout",
     "output_type": "stream",
     "text": [
      "possibility with sample size 10001 =  68.57 %\n"
     ]
    }
   ],
   "source": [
    "n = 1\n",
    "m = 0\n",
    "while n < 10001 :\n",
    "    x = randn()\n",
    "    if -1 < x < 1:\n",
    "        m = m + 1\n",
    "    possibility10001 = (m / n) * 100\n",
    "    n = n + 1\n",
    "print(\"possibility with sample size 10001 = \", possibility10001, \"%\")"
   ]
  },
  {
   "cell_type": "code",
   "execution_count": 34,
   "metadata": {},
   "outputs": [
    {
     "name": "stdout",
     "output_type": "stream",
     "text": [
      "possibility with sample size 100001 =  68.167 %\n"
     ]
    }
   ],
   "source": [
    "n = 1\n",
    "m = 0\n",
    "while n < 100001 :\n",
    "    x = randn()\n",
    "    if -1 < x < 1:\n",
    "        m = m + 1\n",
    "    possibility100001 = (m / n) * 100\n",
    "    n = n + 1\n",
    "print(\"possibility with sample size 100001 = \", possibility100001, \"%\")"
   ]
  },
  {
   "cell_type": "code",
   "execution_count": 35,
   "metadata": {},
   "outputs": [
    {
     "name": "stdout",
     "output_type": "stream",
     "text": [
      "possibility with sample size 1000001 =  68.2052 %\n"
     ]
    }
   ],
   "source": [
    "n = 1\n",
    "m = 0\n",
    "while n < 1000001 :\n",
    "    x = randn()\n",
    "    if -1 < x < 1:\n",
    "        m = m + 1\n",
    "    possibility1000001 = (m / n) * 100\n",
    "    n = n + 1\n",
    "print(\"possibility with sample size 1000001 = \", possibility1000001, \"%\")"
   ]
  },
  {
   "cell_type": "code",
   "execution_count": 36,
   "metadata": {},
   "outputs": [
    {
     "name": "stdout",
     "output_type": "stream",
     "text": [
      "possibility with sample size 10000001 =  68.25314999999999 %\n"
     ]
    }
   ],
   "source": [
    "n = 1\n",
    "m = 0\n",
    "while n < 10000001 :\n",
    "    x = randn()\n",
    "    if -1 < x < 1:\n",
    "        m = m + 1\n",
    "    possibility10000001 = (m / n) * 100\n",
    "    n = n + 1\n",
    "print(\"possibility with sample size 10000001 = \", possibility10000001, \"%\")"
   ]
  },
  {
   "cell_type": "code",
   "execution_count": 37,
   "metadata": {},
   "outputs": [],
   "source": [
    "#so we can see that as the sample size increase from 11 to 21, 101, 1001, 10001, 100001, 1000001, 10000001\n",
    "#the possibility of values x falling into -1 to 1 converges to 68.2%"
   ]
  },
  {
   "cell_type": "code",
   "execution_count": null,
   "metadata": {},
   "outputs": [],
   "source": []
  }
 ],
 "metadata": {
  "kernelspec": {
   "display_name": "Python 3",
   "language": "python",
   "name": "python3"
  },
  "language_info": {
   "codemirror_mode": {
    "name": "ipython",
    "version": 3
   },
   "file_extension": ".py",
   "mimetype": "text/x-python",
   "name": "python",
   "nbconvert_exporter": "python",
   "pygments_lexer": "ipython3",
   "version": "3.6.5"
  }
 },
 "nbformat": 4,
 "nbformat_minor": 2
}
